{
 "cells": [
  {
   "cell_type": "markdown",
   "id": "f9b88c7c",
   "metadata": {},
   "source": [
    "# Salary Classification"
   ]
  },
  {
   "cell_type": "markdown",
   "id": "6a78b1b1",
   "metadata": {},
   "source": [
    "- In this project, I used a dataset from kaggle [salaryPredictionDataset](https://www.kaggle.com/datasets/ayessa/salary-prediction-classification), which supplies data on whether participants made more or less than $50k. \n",
    "- The dataset contains a variety useful features, including education level, sex, race, occupation, and hours worked.\n",
    "- After conducting analysis on these important data features, I used variety of Sklearn's classification tools to try and build the most effective model that I could. These classifiers include support vector machines, Gaussian Naive Bayes, K-Nearest Neighbors, Logistic Regression, Decision Tree, and Random Forest."
   ]
  },
  {
   "cell_type": "code",
   "execution_count": 105,
   "id": "69c153b0",
   "metadata": {},
   "outputs": [],
   "source": [
    "# imports\n",
    "import pandas as pd\n",
    "import numpy as np\n",
    "import matplotlib.pyplot as plt\n",
    "import seaborn as sns\n",
    "\n",
    "from scipy.stats import pearsonr\n",
    "from sklearn.model_selection import train_test_split\n",
    "\n",
    "from sklearn.svm import SVC\n",
    "from sklearn.naive_bayes import GaussianNB\n",
    "from sklearn.neighbors import KNeighborsClassifier\n",
    "from sklearn.linear_model import LogisticRegression\n",
    "from sklearn.tree import DecisionTreeClassifier\n",
    "from sklearn.ensemble import RandomForestClassifier\n",
    "\n",
    "from xgboost import XGBClassifier"
   ]
  },
  {
   "cell_type": "markdown",
   "id": "fc00a96c",
   "metadata": {},
   "source": [
    "## Data Analysis"
   ]
  },
  {
   "cell_type": "code",
   "execution_count": 5,
   "id": "be47b0e2",
   "metadata": {},
   "outputs": [
    {
     "name": "stdout",
     "output_type": "stream",
     "text": [
      "   age          workclass   education  education-num       marital-status  \\\n",
      "0   39          State-gov   Bachelors             13        Never-married   \n",
      "1   50   Self-emp-not-inc   Bachelors             13   Married-civ-spouse   \n",
      "2   38            Private     HS-grad              9             Divorced   \n",
      "3   53            Private        11th              7   Married-civ-spouse   \n",
      "4   28            Private   Bachelors             13   Married-civ-spouse   \n",
      "\n",
      "           occupation    race      sex  hours-per-week  native-country  salary  \n",
      "0        Adm-clerical   White     Male              40   United-States   <=50K  \n",
      "1     Exec-managerial   White     Male              13   United-States   <=50K  \n",
      "2   Handlers-cleaners   White     Male              40   United-States   <=50K  \n",
      "3   Handlers-cleaners   Black     Male              40   United-States   <=50K  \n",
      "4      Prof-specialty   Black   Female              40            Cuba   <=50K  \n"
     ]
    }
   ],
   "source": [
    "data = pd.read_csv('salary.csv')\n",
    "data = data.drop(columns=['fnlwgt', 'relationship', 'capital-gain', 'capital-loss'])\n",
    "print(data.head())"
   ]
  },
  {
   "cell_type": "markdown",
   "id": "8c3396d8",
   "metadata": {},
   "source": [
    "The first thing I did after examining the raw data, was create an encoded salary column, with 1 values for over $50k and 0 values for under."
   ]
  },
  {
   "cell_type": "code",
   "execution_count": null,
   "id": "0cc11848",
   "metadata": {},
   "outputs": [],
   "source": [
    "# create binary encoded income\n",
    "data[\"salary_enc\"] = data[\"salary\"].astype('category')\n",
    "data[\"salary_enc\"] = data[\"salary_enc\"].cat.codes\n",
    "data[\"salary_enc\"]"
   ]
  },
  {
   "cell_type": "markdown",
   "id": "8bedf17b",
   "metadata": {},
   "source": [
    "### Age"
   ]
  },
  {
   "cell_type": "code",
   "execution_count": 8,
   "id": "56d60d1e",
   "metadata": {},
   "outputs": [],
   "source": [
    "# get age data for salary brackets\n",
    "greater50age = data.age[data.salary == ' >50K']\n",
    "less50age = data.age[data.salary == ' <=50K']"
   ]
  },
  {
   "cell_type": "code",
   "execution_count": 110,
   "id": "d12e406f",
   "metadata": {},
   "outputs": [
    {
     "data": {
      "text/plain": [
       "0.00    17.0\n",
       "0.25    28.0\n",
       "0.50    37.0\n",
       "0.75    48.0\n",
       "1.00    90.0\n",
       "Name: age, dtype: float64"
      ]
     },
     "execution_count": 110,
     "metadata": {},
     "output_type": "execute_result"
    }
   ],
   "source": [
    "# the quantiles show that the vast majority of participants \n",
    "# are middle-aged or younger\n",
    "ageGroups = data.age.quantile([0,.25,.5,.75,1])\n",
    "ageGroups"
   ]
  },
  {
   "cell_type": "code",
   "execution_count": 10,
   "id": "be6f982e",
   "metadata": {},
   "outputs": [
    {
     "data": {
      "text/plain": [
       "{'20-30': 8054, '30-40': 8613, '40-50': 7175, '50-60': 4418, '60+': 4301}"
      ]
     },
     "execution_count": 10,
     "metadata": {},
     "output_type": "execute_result"
    }
   ],
   "source": [
    "ageCounts = {'20-30':0, '30-40':0, '40-50':0, '50-60':0, '60+':0}\n",
    "for value in data.age:\n",
    "    if value >= 20 and value < 30:\n",
    "        ageCounts['20-30'] += 1\n",
    "    elif value >= 30 and value < 40:\n",
    "        ageCounts['30-40'] += 1\n",
    "    elif value >= 40 and value < 50:\n",
    "        ageCounts['40-50'] += 1\n",
    "    elif value >= 50 and value < 60:\n",
    "        ageCounts['50-60'] += 1\n",
    "    else:\n",
    "        ageCounts['60+'] += 1\n",
    "ageCounts"
   ]
  },
  {
   "cell_type": "code",
   "execution_count": 11,
   "id": "327e8cd1",
   "metadata": {},
   "outputs": [
    {
     "data": {
      "text/plain": [
       "['20-30', '30-40', '40-50', '50-60', '60+']"
      ]
     },
     "execution_count": 11,
     "metadata": {},
     "output_type": "execute_result"
    }
   ],
   "source": [
    "# get labels for age group plots\n",
    "ageLabels = []\n",
    "for value in ageCounts:\n",
    "    ageLabels.append(value)\n",
    "ageLabels"
   ]
  },
  {
   "cell_type": "markdown",
   "id": "534da738",
   "metadata": {},
   "source": [
    "Below, I create a list of counts of each income level for each age group for use in a bar chart"
   ]
  },
  {
   "cell_type": "code",
   "execution_count": 12,
   "id": "e5816669",
   "metadata": {},
   "outputs": [
    {
     "name": "stdout",
     "output_type": "stream",
     "text": [
      "30904\n",
      "7839\n"
     ]
    }
   ],
   "source": [
    "# get array of lengths of each age groups for <=50k income level\n",
    "less50_2030count = len(data.loc[(data['age'] >= 20) & (data['age'] < 30) & (data.salary == ' <=50K'), ['age']])\n",
    "less50_3040count = len(data.loc[(data['age'] >= 30) & (data['age'] < 40) & (data.salary == ' <=50K'), ['age']])\n",
    "less50_4050count = len(data.loc[(data['age'] >= 40) & (data['age'] < 50) & (data.salary == ' <=50K'), ['age']])\n",
    "less50_5060count = len(data.loc[(data['age'] >= 50) & (data['age'] < 60) & (data.salary == ' <=50K'), ['age']])\n",
    "less50_60count = len(data.loc[(data['age'] >= 60) & (data.salary == ' <=50K'), ['age']])\n",
    "less50AgeCounts = [less50_2030count, less50_3040count, less50_4050count, less50_5060count, less50_60count]\n",
    "\n",
    "# get array of lengths of each age groups for >50k income level\n",
    "great50_2030count = len(data.loc[(data['age'] >= 20) & (data['age'] < 30) & (data.salary == ' >50K'), ['age']])\n",
    "great50_3040count = len(data.loc[(data['age'] >= 30) & (data['age'] < 40) & (data.salary == ' >50K'), ['age']])\n",
    "great50_4050count = len(data.loc[(data['age'] >= 40) & (data['age'] < 50) & (data.salary == ' >50K'), ['age']])\n",
    "great50_5060count = len(data.loc[(data['age'] >= 50) & (data['age'] < 60) & (data.salary == ' >50K'), ['age']])\n",
    "great50_60count = len(data.loc[(data['age'] >= 60) & (data.salary == ' >50K'), ['age']])\n",
    "greater50AgeCounts = [great50_2030count, great50_3040count, great50_4050count, great50_5060count, great50_60count]\n",
    "\n",
    "print(sum(less50AgeCounts)+sum(greater50AgeCounts))\n",
    "print(sum(greater50AgeCounts))"
   ]
  },
  {
   "cell_type": "code",
   "execution_count": 13,
   "id": "24f7c98c",
   "metadata": {},
   "outputs": [
    {
     "data": {
      "image/png": "[encoded data removed]",
      "text/plain": [
       "<Figure size 432x288 with 2 Axes>"
      ]
     },
     "metadata": {
      "needs_background": "light"
     },
     "output_type": "display_data"
    },
    {
     "data": {
      "text/plain": [
       "<Figure size 432x288 with 0 Axes>"
      ]
     },
     "metadata": {},
     "output_type": "display_data"
    }
   ],
   "source": [
    "# plot:\n",
    "fig, (ax1, ax2) = plt.subplots(1,2)\n",
    "plt.tight_layout(pad=2.5)\n",
    "plt.xticks(rotation='vertical')\n",
    "\n",
    "# Age Distrubtion\n",
    "ax1.hist(data.age, bins=7, linewidth=0.5, edgecolor=\"white\")\n",
    "ax1.set(xlim=(data.age.min(), data.age.max()))\n",
    "ax1.set_xlabel('Age')\n",
    "ax1.set_ylabel('Occurences')\n",
    "ax1.set_title('Age Distribution')\n",
    "\n",
    "# Age & Income\n",
    "greater50age = data.age[data.salary == ' >50K']\n",
    "less50age = data.age[data.salary == ' <=50K']\n",
    "\n",
    "ax2.bar(ageLabels, less50AgeCounts, label='<=50k')\n",
    "ax2.bar(ageLabels, greater50AgeCounts, label='>50k')\n",
    "\n",
    "ax2.set_ylabel('Scores')\n",
    "ax2.set_title('Income/Age Breakdown')\n",
    "ax2.legend()\n",
    "\n",
    "plt.show()\n",
    "plt.clf()"
   ]
  },
  {
   "cell_type": "markdown",
   "id": "6625daaf",
   "metadata": {},
   "source": [
    "- The histogram of age distribution affirms what the examination of the quantiles suggested: that the vast majority of participants are under the age of 50\n",
    "- The stacked bar chart shows that income seems to increase with age until the age of 60 (rough retirement age)"
   ]
  },
  {
   "cell_type": "code",
   "execution_count": 14,
   "id": "650a0146",
   "metadata": {},
   "outputs": [
    {
     "name": "stdout",
     "output_type": "stream",
     "text": [
      "(0.23403710264885985, 0.0)\n",
      "23.40% of the variation in data can be explained by age.\n"
     ]
    }
   ],
   "source": [
    "# corr and r squared\n",
    "corr = pearsonr(data.age, data.salary_enc)\n",
    "print(corr)\n",
    "print(\"{0:.2f}% of the variation in data can be explained by age.\".format(corr[0]*100))"
   ]
  },
  {
   "cell_type": "markdown",
   "id": "66b08a23",
   "metadata": {},
   "source": [
    "- R^2 shows that a relatively large amount of variation in the data can be explained by age"
   ]
  },
  {
   "cell_type": "markdown",
   "id": "e929a098",
   "metadata": {},
   "source": [
    "### Education Level"
   ]
  },
  {
   "cell_type": "markdown",
   "id": "af0a9ed9",
   "metadata": {},
   "source": [
    "- The first thing I did when examining education level was look at the percent of participants making over $50k. Those with an education level of less than 9th grade saw a similarly low income level, with jumps for each year of high school and a larger jump for each year of college until junior year."
   ]
  },
  {
   "cell_type": "code",
   "execution_count": 16,
   "id": "25fb773f",
   "metadata": {},
   "outputs": [
    {
     "name": "stdout",
     "output_type": "stream",
     "text": [
      "The average salary for grade 1 is <=50k, with 0% of participants making over $50k\n",
      "The average salary for grade 2 is <=50k, with 3.57% of participants making over $50k\n",
      "The average salary for grade 3 is <=50k, with 4.8% of participants making over $50k\n",
      "The average salary for grade 4 is <=50k, with 6.19% of participants making over $50k\n",
      "The average salary for grade 5 is <=50k, with 5.25% of participants making over $50k\n",
      "The average salary for grade 6 is <=50k, with 6.65% of participants making over $50k\n",
      "The average salary for grade 7 is <=50k, with 5.11% of participants making over $50k\n",
      "The average salary for grade 8 is <=50k, with 7.62% of participants making over $50k\n",
      "The average salary for grade 9 is <=50k, with 15.95% of participants making over $50k\n",
      "The average salary for grade 10 is <=50k, with 19.02% of participants making over $50k\n",
      "The average salary for grade 11 is <=50k, with 26.12% of participants making over $50k\n",
      "The average salary for grade 12 is <=50k, with 24.84% of participants making over $50k\n",
      "The average salary for grade 13 is <=50k, with 41.48% of participants making over $50k\n",
      "The average salary for grade 14 is >$50k, with 55.66% of participants making over $50k\n",
      "The average salary for grade 15 is >$50k, with 73.44% of participants making over $50k\n",
      "The average salary for grade 16 is >$50k, with 74.09% of participants making over $50k\n"
     ]
    }
   ],
   "source": [
    "# average income for each level\n",
    "over50Num = []\n",
    "under50Num = []\n",
    "for x in np.sort(data['education-num'].unique()):\n",
    "    sampleData = data.loc[data['education-num'] == x, 'salary_enc']\n",
    "    try:\n",
    "        number = sampleData.value_counts()[1]\n",
    "        over50Num.append(number)\n",
    "        under50 = sampleData.value_counts()[0]\n",
    "        under50Num.append(under50)\n",
    "        percent50k = round(((number)/(len(sampleData))*100), 2)\n",
    "    except:\n",
    "        percent50k = 0\n",
    "        over50Num.append(0)\n",
    "        under50Num.append(len(sampleData))\n",
    "    average = sampleData.mean()\n",
    "    if average > .5:\n",
    "        average = \">$50k\"\n",
    "    else:\n",
    "        average = \"<=50k\"\n",
    "    print('The average salary for grade {grade} is {avg}, with {percent}% of participants making over $50k'.format(grade=x, avg=average, percent=percent50k) )"
   ]
  },
  {
   "cell_type": "code",
   "execution_count": 17,
   "id": "147ef21c",
   "metadata": {},
   "outputs": [
    {
     "name": "stdout",
     "output_type": "stream",
     "text": [
      "[0, 6, 16, 40, 27, 62, 60, 33, 1675, 1387, 361, 265, 2221, 959, 423, 306]\n",
      "[51, 162, 317, 606, 487, 871, 1115, 400, 8826, 5904, 1021, 802, 3134, 764, 153, 107]\n"
     ]
    }
   ],
   "source": [
    "# number of each type of income at each grade level for bar chart\n",
    "print(over50Num)\n",
    "print(under50Num)"
   ]
  },
  {
   "cell_type": "code",
   "execution_count": 18,
   "id": "a8617b43",
   "metadata": {},
   "outputs": [
    {
     "data": {
      "text/plain": [
       "[(12, 14], (8, 10], (0, 8], (10, 12], (14, 16]]\n",
       "Categories (5, interval[int64, right]): [(0, 8] < (8, 10] < (10, 12] < (12, 14] < (14, 16]]"
      ]
     },
     "execution_count": 18,
     "metadata": {},
     "output_type": "execute_result"
    }
   ],
   "source": [
    "data['edu_binned'] = pd.cut(x=data['education-num'], bins=[0,8,10,12,14,16])\n",
    "data['edu_binned'].unique()"
   ]
  },
  {
   "cell_type": "code",
   "execution_count": 19,
   "id": "b0d4fc20",
   "metadata": {},
   "outputs": [
    {
     "data": {
      "text/plain": [
       "{Interval(12, 14, closed='right'): 0,\n",
       " Interval(8, 10, closed='right'): 0,\n",
       " Interval(0, 8, closed='right'): 0,\n",
       " Interval(10, 12, closed='right'): 0,\n",
       " Interval(14, 16, closed='right'): 0}"
      ]
     },
     "execution_count": 19,
     "metadata": {},
     "output_type": "execute_result"
    }
   ],
   "source": [
    "over50k = {}\n",
    "for x in data['edu_binned'].unique():\n",
    "    over50k[x] = 0\n",
    "over50k"
   ]
  },
  {
   "cell_type": "code",
   "execution_count": 20,
   "id": "5af8ca3b",
   "metadata": {},
   "outputs": [],
   "source": [
    "greater50age = data['education-num'][data.salary == ' >50K']\n",
    "less50age = data['education-num'][data.salary == ' <=50K']\n",
    "\n",
    "less50education = pd.cut(x=less50age, bins=[])"
   ]
  },
  {
   "cell_type": "code",
   "execution_count": 21,
   "id": "695b0c78",
   "metadata": {},
   "outputs": [],
   "source": [
    "edu_labels = np.sort(data['education-num'].unique())"
   ]
  },
  {
   "cell_type": "code",
   "execution_count": 22,
   "id": "5ea94209",
   "metadata": {},
   "outputs": [
    {
     "data": {
      "image/png": "[encoded data removed]",
      "text/plain": [
       "<Figure size 432x288 with 2 Axes>"
      ]
     },
     "metadata": {
      "needs_background": "light"
     },
     "output_type": "display_data"
    },
    {
     "data": {
      "text/plain": [
       "<Figure size 432x288 with 0 Axes>"
      ]
     },
     "metadata": {},
     "output_type": "display_data"
    }
   ],
   "source": [
    "# plot:\n",
    "fig, (ax1, ax2) = plt.subplots(1,2)\n",
    "plt.tight_layout(pad=2.5)\n",
    "\n",
    "# Education Distrubtion\n",
    "ax1.hist(data['education-num'], bins=7, linewidth=0.5, edgecolor=\"white\")\n",
    "ax1.set(xlim=(data['education-num'].min(), data['education-num'].max()))\n",
    "ax1.set_xlabel('Education Level')\n",
    "ax1.set_ylabel('Occurences')\n",
    "ax1.set_title('Education Level Distribution')\n",
    "\n",
    "# Education & Income\n",
    "ax2.bar(edu_labels, under50Num, label='<=50k')\n",
    "ax2.bar(edu_labels, over50Num, label='>50k')\n",
    "\n",
    "ax2.set_ylabel('Salary')\n",
    "ax2.set_title('Income/Education Breakdown')\n",
    "ax2.legend()\n",
    "\n",
    "plt.show()\n",
    "plt.clf()"
   ]
  },
  {
   "cell_type": "markdown",
   "id": "a52bb1c9",
   "metadata": {},
   "source": [
    "- The bar chart shows that the vast majority made it to or finished high school, with a smaller percentage making it to year 15/16.\n",
    "- The stacked bar chart showed that income level seemed to increase almost directly proportionally to grade, with those who finished year one of college virtually all making over $50k."
   ]
  },
  {
   "cell_type": "code",
   "execution_count": 23,
   "id": "0c96e770",
   "metadata": {},
   "outputs": [
    {
     "name": "stdout",
     "output_type": "stream",
     "text": [
      "(0.3351539526909414, 0.0)\n",
      "33.52% of the variation in data can be explained by education level.\n"
     ]
    }
   ],
   "source": [
    "# corr and r squared\n",
    "corr = pearsonr(data['education-num'], data.salary_enc)\n",
    "print(corr)\n",
    "print(\"{0:.2f}% of the variation in data can be explained by education level.\".format(corr[0]*100))"
   ]
  },
  {
   "cell_type": "markdown",
   "id": "c2dfdfae",
   "metadata": {},
   "source": [
    "- R^2 shows that a larger amount of variation in the data can be explained by education than by age (33.5% vs. 23.4%)"
   ]
  },
  {
   "cell_type": "markdown",
   "id": "86f24540",
   "metadata": {},
   "source": [
    "### Occupation"
   ]
  },
  {
   "cell_type": "code",
   "execution_count": 24,
   "id": "07e6809b",
   "metadata": {},
   "outputs": [
    {
     "name": "stdout",
     "output_type": "stream",
     "text": [
      "[507, 1968, 86, 1859, 137, 983, 929, 320, 115, 250, 283, 191, 211, 1, 1]\n",
      "[3263, 2098, 1284, 2281, 3158, 2667, 3170, 1277, 879, 1752, 645, 1652, 438, 8, 148]\n"
     ]
    }
   ],
   "source": [
    "# count of each type of occupation over 50k\n",
    "greater50occupation = data['occupation'][data.salary == ' >50K']\n",
    "greater50count = []\n",
    "for occupation in data.occupation.unique():\n",
    "    count = data['occupation'][(data.salary == ' >50K') & (data.occupation == occupation)].count()\n",
    "    greater50count.append(count)\n",
    "    \n",
    "# count of each type of occupation under 50k\n",
    "less50occupation = data['occupation'][data.salary == ' <=50K']\n",
    "less50count = []\n",
    "for occupation in data.occupation.unique():\n",
    "    count = data['occupation'][(data.salary == ' <=50K') & (data.occupation == occupation)].count()\n",
    "    less50count.append(count)\n",
    "    \n",
    "print(greater50count)\n",
    "print(less50count)"
   ]
  },
  {
   "cell_type": "code",
   "execution_count": 25,
   "id": "2f760258",
   "metadata": {},
   "outputs": [
    {
     "data": {
      "image/png": "[encoded data removed]",
      "text/plain": [
       "<Figure size 432x288 with 1 Axes>"
      ]
     },
     "metadata": {
      "needs_background": "light"
     },
     "output_type": "display_data"
    },
    {
     "data": {
      "image/png": "[encoded data removed]",
      "text/plain": [
       "<Figure size 432x288 with 1 Axes>"
      ]
     },
     "metadata": {
      "needs_background": "light"
     },
     "output_type": "display_data"
    },
    {
     "data": {
      "text/plain": [
       "<Figure size 432x288 with 0 Axes>"
      ]
     },
     "metadata": {},
     "output_type": "display_data"
    }
   ],
   "source": [
    "# plot:\n",
    "fig, ax1 = plt.subplots(1,1)\n",
    "plt.tight_layout(pad=2.5)\n",
    "plt.xticks(rotation='vertical')\n",
    "\n",
    "# Education Distrubtion\n",
    "ax1.hist(data['occupation'], bins=(len(data.occupation.unique())), linewidth=0.5, edgecolor=\"white\")\n",
    "\n",
    "ax1.set_xlabel(' Occupation')\n",
    "ax1.set_ylabel('Occurences')\n",
    "ax1.set_title('Occupation Distribution')\n",
    "\n",
    "\n",
    "# plot 2\n",
    "fig, ax2 = plt.subplots(1,1)\n",
    "plt.tight_layout(pad=2.5)\n",
    "plt.xticks(rotation='vertical')\n",
    "\n",
    "# Education & Income\n",
    "ax2.bar(data['occupation'].unique(), less50count, label='<=50k')\n",
    "ax2.bar(data['occupation'].unique(), greater50count, label='>50k')\n",
    "\n",
    "ax2.set_ylabel('Occurences')\n",
    "ax2.set_title('Income/Occupation Breakdown')\n",
    "ax2.legend()\n",
    "\n",
    "plt.show()\n",
    "plt.clf()"
   ]
  },
  {
   "cell_type": "markdown",
   "id": "9c6fe01a",
   "metadata": {},
   "source": [
    "- The histogram of professions show a relatively even distribution among top professions, and a group with less instances.\n",
    "- The stacked bar chart showed exec-managerial and prof-specialty (as expected) to be the best performing occupation, with professions such as sales and craft-repair following. After those, there appears to be a significant drop off in the percentage of people making over 50k."
   ]
  },
  {
   "cell_type": "markdown",
   "id": "bdf71655",
   "metadata": {},
   "source": [
    "- Next, I created a new column with encoded professions based on each profession's percentage overr $50k. This creates a new, usable feature for classification."
   ]
  },
  {
   "cell_type": "code",
   "execution_count": 26,
   "id": "8d0751eb",
   "metadata": {},
   "outputs": [
    {
     "name": "stdout",
     "output_type": "stream",
     "text": [
      "Percent of each profession over $50k:\n",
      "{' Adm-clerical': 0.16, ' Exec-managerial': 0.94, ' Handlers-cleaners': 0.07, ' Prof-specialty': 0.81, ' Other-service': 0.04, ' Sales': 0.37, ' Craft-repair': 0.29, ' Transport-moving': 0.25, ' Farming-fishing': 0.13, ' Machine-op-inspct': 0.14, ' Tech-support': 0.44, ' ?': 0.12, ' Protective-serv': 0.48, ' Armed-Forces': 0.12, ' Priv-house-serv': 0.01}\n",
      "Profession codes:\n",
      "{' Priv-house-serv': 0, ' Other-service': 1, ' Handlers-cleaners': 2, ' ?': 3, ' Armed-Forces': 4, ' Farming-fishing': 5, ' Machine-op-inspct': 6, ' Adm-clerical': 7, ' Transport-moving': 8, ' Craft-repair': 9, ' Sales': 10, ' Tech-support': 11, ' Protective-serv': 12, ' Prof-specialty': 13, ' Exec-managerial': 14}\n"
     ]
    },
    {
     "data": {
      "text/plain": [
       "0         7\n",
       "1        14\n",
       "2         2\n",
       "3         2\n",
       "4        13\n",
       "         ..\n",
       "32556    11\n",
       "32557     6\n",
       "32558     7\n",
       "32559     7\n",
       "32560    14\n",
       "Name: occupation_enc, Length: 32561, dtype: int64"
      ]
     },
     "execution_count": 26,
     "metadata": {},
     "output_type": "execute_result"
    }
   ],
   "source": [
    "# rank income averages by occupation\n",
    "percentOver50k = {}\n",
    "for x in data['occupation'].unique():\n",
    "    occupationSalary = data.loc[data['occupation'] == x, 'salary_enc']\n",
    "    number = occupationSalary.value_counts()[1]\n",
    "    divisor = occupationSalary.value_counts()[0]\n",
    "    percent50k = (np.round(((number)/(divisor)),2))\n",
    "    percentOver50k[x] = percent50k\n",
    "    #except:\n",
    "     #   pecentOver50k.append(0)\n",
    "print('Percent of each profession over $50k:')    \n",
    "print(percentOver50k)\n",
    "# sort dict\n",
    "percentOver50k = {k: v for k, v in sorted(percentOver50k.items(), key=lambda item: item[1])}\n",
    "# set up list in ascending income order\n",
    "occupationRanking = [key for key in percentOver50k.keys()]\n",
    "# dictionary with codes\n",
    "codes = {}\n",
    "for x in range(len(occupationRanking)):\n",
    "    codes[occupationRanking[x]] = x\n",
    "print('Profession codes:')\n",
    "print(codes)\n",
    "# replace values with codes\n",
    "data['occupation_enc'] = data['occupation'].replace(codes)\n",
    "data['occupation_enc']"
   ]
  },
  {
   "cell_type": "code",
   "execution_count": 27,
   "id": "c1a80a10",
   "metadata": {},
   "outputs": [
    {
     "name": "stdout",
     "output_type": "stream",
     "text": [
      "(0.33654148323572514, 0.0)\n",
      "33.65% of the variation in data can be explained by occupation.\n"
     ]
    }
   ],
   "source": [
    "# corr and r squared\n",
    "corr = pearsonr(data['occupation_enc'], data.salary_enc)\n",
    "print(corr)\n",
    "print(\"{0:.2f}% of the variation in data can be explained by occupation.\".format(corr[0]*100))"
   ]
  },
  {
   "cell_type": "markdown",
   "id": "c81aa509",
   "metadata": {},
   "source": [
    "- R^2 shows that a similarly large amount of variation in the data can be explained by occupation and education (33.65% vs. 33.5%)"
   ]
  },
  {
   "cell_type": "markdown",
   "id": "5e06b45d",
   "metadata": {},
   "source": [
    "### Race"
   ]
  },
  {
   "cell_type": "markdown",
   "id": "07e19cd2",
   "metadata": {},
   "source": [
    "- When examining race, I first created a new encoded column ranked based on (again) percent of particpants who made over $50k."
   ]
  },
  {
   "cell_type": "code",
   "execution_count": 28,
   "id": "62388eb1",
   "metadata": {},
   "outputs": [
    {
     "name": "stdout",
     "output_type": "stream",
     "text": [
      "Codes for each race:\n",
      "{' Other': 0, ' Amer-Indian-Eskimo': 1, ' Black': 2, ' White': 3, ' Asian-Pac-Islander': 4}\n"
     ]
    },
    {
     "data": {
      "text/plain": [
       "0        3\n",
       "1        3\n",
       "2        3\n",
       "3        2\n",
       "4        2\n",
       "        ..\n",
       "32556    3\n",
       "32557    3\n",
       "32558    3\n",
       "32559    3\n",
       "32560    3\n",
       "Name: race_enc, Length: 32561, dtype: int64"
      ]
     },
     "execution_count": 28,
     "metadata": {},
     "output_type": "execute_result"
    }
   ],
   "source": [
    "under50Count = []\n",
    "over50Count = []\n",
    "#\n",
    "raceAvgSal = {}\n",
    "\n",
    "# getting count of each race for bar chart and adding % over 50 to raceAvgSal dict\n",
    "for x in data.race.unique():\n",
    "    raceSalary = data.loc[data['race'] == x, 'salary_enc']\n",
    "    raceAvgSal[x] = raceSalary.mean()\n",
    "    over50 = raceSalary.value_counts()[1]\n",
    "    over50Count.append(over50)\n",
    "    under50 = raceSalary.value_counts()[0]\n",
    "    under50Count.append(under50)\n",
    "# sort dict\n",
    "percentOver50k = {k: v for k, v in sorted(raceAvgSal.items(), key=lambda item: item[1])}\n",
    "\n",
    "\n",
    "# set up list in ascending income order\n",
    "raceIncomeRanking = [key for key in percentOver50k.keys()]\n",
    "# dictionary with codes\n",
    "codes = {}\n",
    "for x in range(len(raceIncomeRanking)):\n",
    "    codes[raceIncomeRanking[x]] = x\n",
    "print('Codes for each race:')\n",
    "print(codes)\n",
    "# replace values with codes\n",
    "data['race_enc'] = data['race'].replace(codes)\n",
    "data['race_enc']"
   ]
  },
  {
   "cell_type": "code",
   "execution_count": 29,
   "id": "acfea8bb",
   "metadata": {},
   "outputs": [
    {
     "data": {
      "image/png": "[encoded data removed]",
      "text/plain": [
       "<Figure size 432x288 with 1 Axes>"
      ]
     },
     "metadata": {
      "needs_background": "light"
     },
     "output_type": "display_data"
    },
    {
     "data": {
      "text/plain": [
       "<Figure size 432x288 with 0 Axes>"
      ]
     },
     "metadata": {},
     "output_type": "display_data"
    },
    {
     "data": {
      "image/png": "[encoded data removed]",
      "text/plain": [
       "<Figure size 432x288 with 1 Axes>"
      ]
     },
     "metadata": {
      "needs_background": "light"
     },
     "output_type": "display_data"
    },
    {
     "data": {
      "text/plain": [
       "<Figure size 432x288 with 0 Axes>"
      ]
     },
     "metadata": {},
     "output_type": "display_data"
    }
   ],
   "source": [
    "# plot:\n",
    "fig, ax1 = plt.subplots(1,1)\n",
    "plt.tight_layout(pad=2.5)\n",
    "plt.xticks(rotation='vertical')\n",
    "\n",
    "# Racial Distrubtion\n",
    "ax1.hist(data['race'], bins=(len(data.occupation.unique())), linewidth=0.5, edgecolor=\"white\")\n",
    "\n",
    "ax1.set_xlabel('Race')\n",
    "ax1.set_ylabel('Occurences')\n",
    "ax1.set_title('Race Distribution')\n",
    "plt.show()\n",
    "plt.clf()\n",
    "\n",
    "# plot 2\n",
    "fig, ax2 = plt.subplots(1,1)\n",
    "plt.tight_layout(pad=2.5)\n",
    "plt.xticks(rotation='vertical')\n",
    "\n",
    "# Race & Income\n",
    "ax2.bar(data['race'].unique(), under50Count, label='<=50k')\n",
    "ax2.bar(data['race'].unique(), over50Count, label='>50k')\n",
    "\n",
    "ax2.set_ylabel('Occurences')\n",
    "ax2.set_title('Income/Race Breakdown')\n",
    "ax2.legend()\n",
    "\n",
    "plt.show()\n",
    "plt.clf()"
   ]
  },
  {
   "cell_type": "markdown",
   "id": "98692608",
   "metadata": {},
   "source": [
    "- The histogram shows that the vast majority of participants in the study were white.\n",
    "- The stacked bar chart also shows that white people had a significantly higher percentage of particpants making over 50k than all the other groups except for Asian-Pacific Islanders."
   ]
  },
  {
   "cell_type": "code",
   "execution_count": 30,
   "id": "b84200f1",
   "metadata": {},
   "outputs": [
    {
     "name": "stdout",
     "output_type": "stream",
     "text": [
      "(0.08845132351323315, 1.4650028776225672e-57)\n",
      "8.85% of the variation in data can be explained by race.\n"
     ]
    }
   ],
   "source": [
    "# corr and r squared\n",
    "corr = pearsonr(data['race_enc'], data.salary_enc)\n",
    "print(corr)\n",
    "print(\"{0:.2f}% of the variation in data can be explained by race.\".format(corr[0]*100))"
   ]
  },
  {
   "cell_type": "markdown",
   "id": "9bb662f1",
   "metadata": {},
   "source": [
    "- R^2 shows that a small amount of variation in the data can be explained by race (possibly because of the fact that there are far more white people surveyed than other races)"
   ]
  },
  {
   "cell_type": "markdown",
   "id": "d3b0c272",
   "metadata": {},
   "source": [
    "### Sex"
   ]
  },
  {
   "cell_type": "markdown",
   "id": "511dd9d0",
   "metadata": {},
   "source": [
    "- Next, I examined the sex column. I started by preparing data for the charts and then creating a new encoded column that would represent 1 for male and 0 for female."
   ]
  },
  {
   "cell_type": "code",
   "execution_count": 31,
   "id": "c04844fd",
   "metadata": {},
   "outputs": [
    {
     "data": {
      "text/plain": [
       "0        1\n",
       "1        1\n",
       "2        1\n",
       "3        1\n",
       "4        0\n",
       "        ..\n",
       "32556    0\n",
       "32557    1\n",
       "32558    0\n",
       "32559    1\n",
       "32560    0\n",
       "Name: sex_enc, Length: 32561, dtype: int64"
      ]
     },
     "execution_count": 31,
     "metadata": {},
     "output_type": "execute_result"
    }
   ],
   "source": [
    "under50Count = []\n",
    "over50Count = []\n",
    "#\n",
    "sexAvgSal = {}\n",
    "\n",
    "# getting count of each gender for bar chart and adding % over 50 to sexAvgSal dict\n",
    "for x in data.sex.unique():\n",
    "    sexSalary = data.loc[data['sex'] == x, 'salary_enc']\n",
    "    sexAvgSal[x] = sexSalary.mean()\n",
    "    over50 = sexSalary.value_counts()[1]\n",
    "    over50Count.append(over50)\n",
    "    under50 = sexSalary.value_counts()[0]\n",
    "    under50Count.append(under50)\n",
    "# sort dict\n",
    "percentOver50k = {k: v for k, v in sorted(sexAvgSal.items(), key=lambda item: item[1])}\n",
    "\n",
    "\n",
    "# set up list in ascending income order\n",
    "sexIncomeRanking = [key for key in percentOver50k.keys()]\n",
    "# dictionary with codes\n",
    "codes = {' Male': 1, ' Female': 0}\n",
    "data['sex_enc'] = data['sex'].replace(codes)\n",
    "data['sex_enc']"
   ]
  },
  {
   "cell_type": "code",
   "execution_count": 32,
   "id": "4cc4b36f",
   "metadata": {},
   "outputs": [
    {
     "data": {
      "image/png": "[encoded data removed]",
      "text/plain": [
       "<Figure size 432x288 with 1 Axes>"
      ]
     },
     "metadata": {
      "needs_background": "light"
     },
     "output_type": "display_data"
    },
    {
     "data": {
      "text/plain": [
       "<Figure size 432x288 with 0 Axes>"
      ]
     },
     "metadata": {},
     "output_type": "display_data"
    },
    {
     "data": {
      "image/png": "[encoded data removed]",
      "text/plain": [
       "<Figure size 432x288 with 1 Axes>"
      ]
     },
     "metadata": {
      "needs_background": "light"
     },
     "output_type": "display_data"
    },
    {
     "data": {
      "text/plain": [
       "<Figure size 432x288 with 0 Axes>"
      ]
     },
     "metadata": {},
     "output_type": "display_data"
    }
   ],
   "source": [
    "# plot:\n",
    "fig, ax1 = plt.subplots(1,1)\n",
    "plt.tight_layout(pad=2.5)\n",
    "plt.xticks(rotation='vertical')\n",
    "\n",
    "# Sex Distrubtion\n",
    "ax1.hist(data['sex'], bins=(len(data.sex.unique())), linewidth=0.5, edgecolor=\"white\")\n",
    "\n",
    "ax1.set_xlabel('Sex')\n",
    "ax1.set_ylabel('Occurences')\n",
    "ax1.set_title('Sex Distribution')\n",
    "plt.show()\n",
    "plt.clf()\n",
    "\n",
    "# plot 2\n",
    "fig, ax2 = plt.subplots(1,1)\n",
    "plt.tight_layout(pad=2.5)\n",
    "plt.xticks(rotation='vertical')\n",
    "\n",
    "# Sex & Income\n",
    "ax2.bar(data['sex'].unique(), under50Count, label='<=50k')\n",
    "ax2.bar(data['sex'].unique(), over50Count, label='>50k')\n",
    "\n",
    "ax2.set_ylabel('Occurences')\n",
    "ax2.set_title('Income/Sex Breakdown')\n",
    "ax2.legend()\n",
    "\n",
    "plt.show()\n",
    "plt.clf()"
   ]
  },
  {
   "cell_type": "markdown",
   "id": "d17adba1",
   "metadata": {},
   "source": [
    "- This histogram shows that there were around twice as many male participants than female.\n",
    "- In addition, the stacked bar chart shows that a far larger percentage of males made 50k than their female counterparts.\n",
    "- Upon further examination in the next cell, around 3x as many males made $50k."
   ]
  },
  {
   "cell_type": "code",
   "execution_count": 33,
   "id": "11891999",
   "metadata": {},
   "outputs": [
    {
     "name": "stdout",
     "output_type": "stream",
     "text": [
      "30.57% of male respondents made over $50k\n",
      "10.95% of female respondents made over $50k\n"
     ]
    }
   ],
   "source": [
    "sexPercent50 = []\n",
    "\n",
    "for x in sexAvgSal.values():\n",
    "    sexPercent50.append(x)\n",
    "print('{0:.2f}% of male respondents made over $50k'.format(sexPercent50[0]*100))\n",
    "print('{0:.2f}% of female respondents made over $50k'.format(sexPercent50[1]*100))"
   ]
  },
  {
   "cell_type": "code",
   "execution_count": 34,
   "id": "a448fa6a",
   "metadata": {},
   "outputs": [
    {
     "name": "stdout",
     "output_type": "stream",
     "text": [
      "(0.21598015058403522, 0.0)\n",
      "21.60% of the variation in data can be explained by sex.\n"
     ]
    }
   ],
   "source": [
    "# corr and r squared\n",
    "corr = pearsonr(data['sex_enc'], data.salary_enc)\n",
    "print(corr)\n",
    "print(\"{0:.2f}% of the variation in data can be explained by sex.\".format(corr[0]*100))"
   ]
  },
  {
   "cell_type": "markdown",
   "id": "ea8f5f46",
   "metadata": {},
   "source": [
    "- R^2 shows that a large amount of variation in the data can be explained by sex, but a lower amount than occupation and education (perhaps due to a lack of access to resources and opportunities these other columns explore)"
   ]
  },
  {
   "cell_type": "markdown",
   "id": "0aa37609",
   "metadata": {},
   "source": [
    "### Hours Per Week"
   ]
  },
  {
   "cell_type": "code",
   "execution_count": 36,
   "id": "f7c10c9e",
   "metadata": {},
   "outputs": [],
   "source": [
    "under50Count = []\n",
    "over50Count = []\n",
    "#\n",
    "hoursAvgSal = {}\n",
    "\n",
    "# getting count of each gender for bar chart and adding % over 50 to sexAvgSal dict\n",
    "for x in data['hours-per-week'].unique():\n",
    "    hoursSalary = data.loc[data['hours-per-week'] == x, 'salary_enc']\n",
    "    hoursAvgSal[x] = hoursSalary.mean()\n",
    "    try:\n",
    "        over50 = hoursSalary.value_counts()[1]\n",
    "        over50Count.append(over50)\n",
    "    except:\n",
    "        over50 = 0\n",
    "        over50Count.append(over50)\n",
    "    try:\n",
    "        under50 = hoursSalary.value_counts()[0]\n",
    "        under50Count.append(under50)\n",
    "    except:\n",
    "        under50 = 0\n",
    "        under50Count.append(under50)"
   ]
  },
  {
   "cell_type": "code",
   "execution_count": 37,
   "id": "cfa31627",
   "metadata": {},
   "outputs": [
    {
     "data": {
      "image/png": "[encoded data removed]",
      "text/plain": [
       "<Figure size 432x288 with 1 Axes>"
      ]
     },
     "metadata": {
      "needs_background": "light"
     },
     "output_type": "display_data"
    },
    {
     "data": {
      "text/plain": [
       "<Figure size 432x288 with 0 Axes>"
      ]
     },
     "metadata": {},
     "output_type": "display_data"
    },
    {
     "data": {
      "image/png": "[encoded data removed]",
      "text/plain": [
       "<Figure size 432x288 with 1 Axes>"
      ]
     },
     "metadata": {
      "needs_background": "light"
     },
     "output_type": "display_data"
    },
    {
     "data": {
      "text/plain": [
       "<Figure size 432x288 with 0 Axes>"
      ]
     },
     "metadata": {},
     "output_type": "display_data"
    }
   ],
   "source": [
    "# plot:\n",
    "fig, ax1 = plt.subplots(1,1)\n",
    "plt.tight_layout(pad=2.5)\n",
    "\n",
    "\n",
    "# Hours Distrubtion\n",
    "ax1.hist(data['hours-per-week'], bins=(len(data['hours-per-week'].unique())), linewidth=0.5, edgecolor=\"white\")\n",
    "\n",
    "ax1.set_xlabel('Hours Per Week')\n",
    "ax1.set_ylabel('Occurences')\n",
    "ax1.set_title('Hours Distribution')\n",
    "plt.show()\n",
    "plt.clf()\n",
    "\n",
    "# plot 2\n",
    "fig, ax2 = plt.subplots(1,1)\n",
    "plt.tight_layout(pad=2.5)\n",
    "\n",
    "\n",
    "# Education & Income\n",
    "ax2.bar(data['hours-per-week'].unique(), under50Count, label='<=50k')\n",
    "ax2.bar(data['hours-per-week'].unique(), over50Count, label='>50k')\n",
    "\n",
    "ax2.set_ylabel('Occurences')\n",
    "ax2.set_title('Income/Hours-Per-Week Breakdown')\n",
    "ax2.legend()\n",
    "\n",
    "plt.show()\n",
    "plt.clf()"
   ]
  },
  {
   "cell_type": "markdown",
   "id": "739192c6",
   "metadata": {},
   "source": [
    "- The histogram breakdow of hours per week shows that a large percentage of participants worked 40 hours a week or more.\n",
    "- The stacked bar chart shows that it was unlikely someone made over $50k if they worked less than 40 hours.\n",
    "- That likelhood seems to be increasing with hours as those who worked 60 almost all made 50k."
   ]
  },
  {
   "cell_type": "code",
   "execution_count": 38,
   "id": "d27693cb",
   "metadata": {},
   "outputs": [
    {
     "data": {
      "image/png": "[encoded data removed]",
      "text/plain": [
       "<Figure size 432x288 with 1 Axes>"
      ]
     },
     "metadata": {
      "needs_background": "light"
     },
     "output_type": "display_data"
    },
    {
     "data": {
      "text/plain": [
       "<Figure size 432x288 with 0 Axes>"
      ]
     },
     "metadata": {},
     "output_type": "display_data"
    }
   ],
   "source": [
    "hours = [key for key in hoursAvgSal.keys()]\n",
    "salary = [value for value in hoursAvgSal.values()]\n",
    "# plot:\n",
    "fig, ax = plt.subplots(1,1)\n",
    "plt.tight_layout(pad=2.5)\n",
    "\n",
    "# Hours-Per-Week Scatter\n",
    "ax.scatter(hours, salary)\n",
    "\n",
    "ax.set_xlabel('Hours Per Week')\n",
    "ax.set_ylabel('% $50k')\n",
    "ax.set_title('Hours vs Salary')\n",
    "plt.show()\n",
    "plt.clf()"
   ]
  },
  {
   "cell_type": "markdown",
   "id": "45de2c4f",
   "metadata": {},
   "source": [
    "- A scatter plot seems to confirm the positive correlation (save for a few high hour groups that averaged 0 likely because of small sample size)"
   ]
  },
  {
   "cell_type": "code",
   "execution_count": 39,
   "id": "3b01dd0a",
   "metadata": {},
   "outputs": [
    {
     "name": "stdout",
     "output_type": "stream",
     "text": [
      "(0.2296890656708137, 0.0)\n",
      "22.97% of the variation in data can be explained by hours worked.\n"
     ]
    }
   ],
   "source": [
    "corr = pearsonr(data['hours-per-week'], data.salary_enc)\n",
    "print(corr)\n",
    "print(\"{0:.2f}% of the variation in data can be explained by hours worked.\".format(corr[0]*100))"
   ]
  },
  {
   "cell_type": "markdown",
   "id": "3fe19d3a",
   "metadata": {},
   "source": [
    "- R^2 shows that hours worked is a relatively important column, but not as crucial as education or occupation"
   ]
  },
  {
   "cell_type": "markdown",
   "id": "fa7c12f3",
   "metadata": {},
   "source": [
    "### Native-Country"
   ]
  },
  {
   "cell_type": "markdown",
   "id": "b6512bb3",
   "metadata": {},
   "source": [
    "- The fist thing I did when examining Native-Country was to prepare data for charts and then create a new encoded column based on a income rankings (as I did with occupation and race)"
   ]
  },
  {
   "cell_type": "code",
   "execution_count": 40,
   "id": "fc8b7094",
   "metadata": {},
   "outputs": [
    {
     "name": "stdout",
     "output_type": "stream",
     "text": [
      "{' United-States': 0.24583476174151525, ' Cuba': 0.2631578947368421, ' Jamaica': 0.12345679012345678, ' India': 0.4, ' ?': 0.2504288164665523, ' Mexico': 0.05132192846034215, ' South': 0.2, ' Puerto-Rico': 0.10526315789473684, ' Honduras': 0.07692307692307693, ' England': 0.3333333333333333, ' Canada': 0.32231404958677684, ' Germany': 0.32116788321167883, ' Iran': 0.4186046511627907, ' Philippines': 0.30808080808080807, ' Italy': 0.3424657534246575, ' Poland': 0.2, ' Columbia': 0.03389830508474576, ' Cambodia': 0.3684210526315789, ' Thailand': 0.16666666666666666, ' Ecuador': 0.14285714285714285, ' Laos': 0.1111111111111111, ' Taiwan': 0.39215686274509803, ' Haiti': 0.09090909090909091, ' Portugal': 0.10810810810810811, ' Dominican-Republic': 0.02857142857142857, ' El-Salvador': 0.08490566037735849, ' France': 0.41379310344827586, ' Guatemala': 0.046875, ' China': 0.26666666666666666, ' Japan': 0.3870967741935484, ' Yugoslavia': 0.375, ' Peru': 0.06451612903225806, ' Outlying-US(Guam-USVI-etc)': 0.0, ' Scotland': 0.25, ' Trinadad&Tobago': 0.10526315789473684, ' Greece': 0.27586206896551724, ' Nicaragua': 0.058823529411764705, ' Vietnam': 0.07462686567164178, ' Hong': 0.3, ' Ireland': 0.20833333333333334, ' Hungary': 0.23076923076923078, ' Holand-Netherlands': 0.0}\n",
      "Codes for each race:\n",
      "{' Outlying-US(Guam-USVI-etc)': 0, ' Holand-Netherlands': 1, ' Dominican-Republic': 2, ' Columbia': 3, ' Guatemala': 4, ' Mexico': 5, ' Nicaragua': 6, ' Peru': 7, ' Vietnam': 8, ' Honduras': 9, ' El-Salvador': 10, ' Haiti': 11, ' Puerto-Rico': 12, ' Trinadad&Tobago': 13, ' Portugal': 14, ' Laos': 15, ' Jamaica': 16, ' Ecuador': 17, ' Thailand': 18, ' South': 19, ' Poland': 20, ' Ireland': 21, ' Hungary': 22, ' United-States': 23, ' Scotland': 24, ' ?': 25, ' Cuba': 26, ' China': 27, ' Greece': 28, ' Hong': 29, ' Philippines': 30, ' Germany': 31, ' Canada': 32, ' England': 33, ' Italy': 34, ' Cambodia': 35, ' Yugoslavia': 36, ' Japan': 37, ' Taiwan': 38, ' India': 39, ' France': 40, ' Iran': 41}\n"
     ]
    },
    {
     "data": {
      "text/plain": [
       "0        23\n",
       "1        23\n",
       "2        23\n",
       "3        23\n",
       "4        26\n",
       "         ..\n",
       "32556    23\n",
       "32557    23\n",
       "32558    23\n",
       "32559    23\n",
       "32560    23\n",
       "Name: country_enc, Length: 32561, dtype: int64"
      ]
     },
     "execution_count": 40,
     "metadata": {},
     "output_type": "execute_result"
    }
   ],
   "source": [
    "under50Count = []\n",
    "over50Count = []\n",
    "#\n",
    "countryAvgSal = {}\n",
    "\n",
    "# getting count of each race for bar chart and adding % over 50 to raceAvgSal dict\n",
    "for x in data['native-country'].unique():\n",
    "    countrySalary = data.loc[data['native-country'] == x, 'salary_enc']\n",
    "    countryAvgSal[x] = countrySalary.mean()\n",
    "    try:\n",
    "        over50 = countrySalary.value_counts()[1]\n",
    "        over50Count.append(over50)\n",
    "    except:\n",
    "        over50 = 0\n",
    "        over50Count.append(over50)\n",
    "    try:\n",
    "        under50 = countrySalary.value_counts()[0]\n",
    "        under50Count.append(under50)\n",
    "    except:\n",
    "        under50 = 0\n",
    "        under50Count.append(under50)\n",
    "# sort dict\n",
    "percentOver50k = {k: v for k, v in sorted(countryAvgSal.items(), key=lambda item: item[1])}\n",
    "\n",
    "\n",
    "# set up list in ascending income order\n",
    "countryIncomeRanking = [key for key in percentOver50k.keys()]\n",
    "# dictionary with codes\n",
    "codes = {}\n",
    "for x in range(len(countryIncomeRanking)):\n",
    "    codes[countryIncomeRanking[x]] = x\n",
    "print(countryAvgSal)\n",
    "print('Codes for each race:')\n",
    "print(codes)\n",
    "# replace values with codes\n",
    "data['country_enc'] = data['native-country'].replace(codes)\n",
    "data['country_enc']"
   ]
  },
  {
   "cell_type": "code",
   "execution_count": 530,
   "id": "3b4fdfab",
   "metadata": {},
   "outputs": [
    {
     "data": {
      "image/png": "[encoded data removed]",
      "text/plain": [
       "<Figure size 432x288 with 1 Axes>"
      ]
     },
     "metadata": {
      "needs_background": "light"
     },
     "output_type": "display_data"
    },
    {
     "data": {
      "text/plain": [
       "<Figure size 432x288 with 0 Axes>"
      ]
     },
     "metadata": {},
     "output_type": "display_data"
    }
   ],
   "source": [
    "hours = [key for key in countryAvgSal.keys()]\n",
    "salary = [value for value in countryAvgSal.values()]\n",
    "# plot:\n",
    "fig, ax = plt.subplots(1,1)\n",
    "plt.tight_layout(pad=2.5)\n",
    "plt.xticks(rotation='vertical')\n",
    "plt.tick_params(axis='x', which='major', labelsize=8)\n",
    "\n",
    "# Hours Distrubtion\n",
    "ax.bar(hours, salary)\n",
    "\n",
    "ax.set_xlabel('Native Country')\n",
    "ax.set_ylabel('% over $50k')\n",
    "ax.set_title('Country Distribution')\n",
    "plt.show()\n",
    "plt.clf()\n",
    "\n"
   ]
  },
  {
   "cell_type": "markdown",
   "id": "491c4ffe",
   "metadata": {},
   "source": [
    "- I chose a different approach with bar chart for this section for the sake of readability. I used a bar chart with the percent of each country over 50k.\n",
    "- Top countries included Iran, France, Taiwan, and the Phillipines (the United States lagged behind unexpectedly)"
   ]
  },
  {
   "cell_type": "code",
   "execution_count": 180,
   "id": "ac4dc9cb",
   "metadata": {},
   "outputs": [
    {
     "name": "stdout",
     "output_type": "stream",
     "text": [
      "(0.09789280844161949, 3.749754304851948e-70)\n",
      "9.79% of the variation in data can be explained by country of origin.\n"
     ]
    }
   ],
   "source": [
    "corr = pearsonr(data['country_enc'], data.salary_enc)\n",
    "print(corr)\n",
    "print(\"{0:.2f}% of the variation in data can be explained by country of origin.\".format(corr[0]*100))"
   ]
  },
  {
   "cell_type": "markdown",
   "id": "7d7f6669",
   "metadata": {},
   "source": [
    "- This feature appears to be rather uninfluential, with less than 10% of the variation explained by native country."
   ]
  },
  {
   "cell_type": "markdown",
   "id": "9ec145af",
   "metadata": {},
   "source": [
    "## Final Data Examination"
   ]
  },
  {
   "cell_type": "code",
   "execution_count": 43,
   "id": "18dcd0f2",
   "metadata": {},
   "outputs": [
    {
     "data": {
      "text/html": [
       "<div>\n",
       "<style scoped>\n",
       "    .dataframe tbody tr th:only-of-type {\n",
       "        vertical-align: middle;\n",
       "    }\n",
       "\n",
       "    .dataframe tbody tr th {\n",
       "        vertical-align: top;\n",
       "    }\n",
       "\n",
       "    .dataframe thead th {\n",
       "        text-align: right;\n",
       "    }\n",
       "</style>\n",
       "<table border=\"1\" class=\"dataframe\">\n",
       "  <thead>\n",
       "    <tr style=\"text-align: right;\">\n",
       "      <th></th>\n",
       "      <th>age</th>\n",
       "      <th>workclass</th>\n",
       "      <th>education</th>\n",
       "      <th>education-num</th>\n",
       "      <th>marital-status</th>\n",
       "      <th>occupation</th>\n",
       "      <th>race</th>\n",
       "      <th>sex</th>\n",
       "      <th>hours-per-week</th>\n",
       "      <th>native-country</th>\n",
       "      <th>salary</th>\n",
       "      <th>salary_enc</th>\n",
       "      <th>edu_binned</th>\n",
       "      <th>occupation_enc</th>\n",
       "      <th>race_enc</th>\n",
       "      <th>sex_enc</th>\n",
       "      <th>country_enc</th>\n",
       "    </tr>\n",
       "  </thead>\n",
       "  <tbody>\n",
       "    <tr>\n",
       "      <th>0</th>\n",
       "      <td>39</td>\n",
       "      <td>State-gov</td>\n",
       "      <td>Bachelors</td>\n",
       "      <td>13</td>\n",
       "      <td>Never-married</td>\n",
       "      <td>Adm-clerical</td>\n",
       "      <td>White</td>\n",
       "      <td>Male</td>\n",
       "      <td>40</td>\n",
       "      <td>United-States</td>\n",
       "      <td>&lt;=50K</td>\n",
       "      <td>0</td>\n",
       "      <td>(12, 14]</td>\n",
       "      <td>7</td>\n",
       "      <td>3</td>\n",
       "      <td>1</td>\n",
       "      <td>23</td>\n",
       "    </tr>\n",
       "    <tr>\n",
       "      <th>1</th>\n",
       "      <td>50</td>\n",
       "      <td>Self-emp-not-inc</td>\n",
       "      <td>Bachelors</td>\n",
       "      <td>13</td>\n",
       "      <td>Married-civ-spouse</td>\n",
       "      <td>Exec-managerial</td>\n",
       "      <td>White</td>\n",
       "      <td>Male</td>\n",
       "      <td>13</td>\n",
       "      <td>United-States</td>\n",
       "      <td>&lt;=50K</td>\n",
       "      <td>0</td>\n",
       "      <td>(12, 14]</td>\n",
       "      <td>14</td>\n",
       "      <td>3</td>\n",
       "      <td>1</td>\n",
       "      <td>23</td>\n",
       "    </tr>\n",
       "    <tr>\n",
       "      <th>2</th>\n",
       "      <td>38</td>\n",
       "      <td>Private</td>\n",
       "      <td>HS-grad</td>\n",
       "      <td>9</td>\n",
       "      <td>Divorced</td>\n",
       "      <td>Handlers-cleaners</td>\n",
       "      <td>White</td>\n",
       "      <td>Male</td>\n",
       "      <td>40</td>\n",
       "      <td>United-States</td>\n",
       "      <td>&lt;=50K</td>\n",
       "      <td>0</td>\n",
       "      <td>(8, 10]</td>\n",
       "      <td>2</td>\n",
       "      <td>3</td>\n",
       "      <td>1</td>\n",
       "      <td>23</td>\n",
       "    </tr>\n",
       "    <tr>\n",
       "      <th>3</th>\n",
       "      <td>53</td>\n",
       "      <td>Private</td>\n",
       "      <td>11th</td>\n",
       "      <td>7</td>\n",
       "      <td>Married-civ-spouse</td>\n",
       "      <td>Handlers-cleaners</td>\n",
       "      <td>Black</td>\n",
       "      <td>Male</td>\n",
       "      <td>40</td>\n",
       "      <td>United-States</td>\n",
       "      <td>&lt;=50K</td>\n",
       "      <td>0</td>\n",
       "      <td>(0, 8]</td>\n",
       "      <td>2</td>\n",
       "      <td>2</td>\n",
       "      <td>1</td>\n",
       "      <td>23</td>\n",
       "    </tr>\n",
       "    <tr>\n",
       "      <th>4</th>\n",
       "      <td>28</td>\n",
       "      <td>Private</td>\n",
       "      <td>Bachelors</td>\n",
       "      <td>13</td>\n",
       "      <td>Married-civ-spouse</td>\n",
       "      <td>Prof-specialty</td>\n",
       "      <td>Black</td>\n",
       "      <td>Female</td>\n",
       "      <td>40</td>\n",
       "      <td>Cuba</td>\n",
       "      <td>&lt;=50K</td>\n",
       "      <td>0</td>\n",
       "      <td>(12, 14]</td>\n",
       "      <td>13</td>\n",
       "      <td>2</td>\n",
       "      <td>0</td>\n",
       "      <td>26</td>\n",
       "    </tr>\n",
       "  </tbody>\n",
       "</table>\n",
       "</div>"
      ],
      "text/plain": [
       "   age          workclass   education  education-num       marital-status  \\\n",
       "0   39          State-gov   Bachelors             13        Never-married   \n",
       "1   50   Self-emp-not-inc   Bachelors             13   Married-civ-spouse   \n",
       "2   38            Private     HS-grad              9             Divorced   \n",
       "3   53            Private        11th              7   Married-civ-spouse   \n",
       "4   28            Private   Bachelors             13   Married-civ-spouse   \n",
       "\n",
       "           occupation    race      sex  hours-per-week  native-country  \\\n",
       "0        Adm-clerical   White     Male              40   United-States   \n",
       "1     Exec-managerial   White     Male              13   United-States   \n",
       "2   Handlers-cleaners   White     Male              40   United-States   \n",
       "3   Handlers-cleaners   Black     Male              40   United-States   \n",
       "4      Prof-specialty   Black   Female              40            Cuba   \n",
       "\n",
       "   salary  salary_enc edu_binned  occupation_enc  race_enc  sex_enc  \\\n",
       "0   <=50K           0   (12, 14]               7         3        1   \n",
       "1   <=50K           0   (12, 14]              14         3        1   \n",
       "2   <=50K           0    (8, 10]               2         3        1   \n",
       "3   <=50K           0     (0, 8]               2         2        1   \n",
       "4   <=50K           0   (12, 14]              13         2        0   \n",
       "\n",
       "   country_enc  \n",
       "0           23  \n",
       "1           23  \n",
       "2           23  \n",
       "3           23  \n",
       "4           26  "
      ]
     },
     "execution_count": 43,
     "metadata": {},
     "output_type": "execute_result"
    }
   ],
   "source": [
    "data.head()"
   ]
  },
  {
   "cell_type": "code",
   "execution_count": null,
   "id": "816f6f68",
   "metadata": {},
   "outputs": [],
   "source": [
    "# \n",
    "'occupation_enc': 33.65, \n",
    "'education-num': 33.52, \n",
    "'age': 23.40,\n",
    "'hours-per-week': 22.97\n",
    "'sex_enc': 21.60, "
   ]
  },
  {
   "cell_type": "markdown",
   "id": "6dd5b249",
   "metadata": {},
   "source": [
    "## Predictions"
   ]
  },
  {
   "cell_type": "markdown",
   "id": "5186f976",
   "metadata": {},
   "source": [
    "### Support Vector"
   ]
  },
  {
   "cell_type": "markdown",
   "id": "f89212fd",
   "metadata": {},
   "source": [
    "- When implementing the Support Vector Machine classifier, I used variety of combinations of features and kernels. \n",
    "- I found the poly kernel performed the best of the three main options (linear and rbf being the other two).\n",
    "- I also found that the combination of occupation, education, age, and sex, and hours-per-week (the features with the highest correlation/R squared values when compared with salary) along with the native-country column produced the best results with 81.5% accuracy."
   ]
  },
  {
   "cell_type": "code",
   "execution_count": 215,
   "id": "279eb985",
   "metadata": {},
   "outputs": [],
   "source": [
    "# data selection\n",
    "features = data[['occupation_enc', 'education-num', 'age', 'hours-per-week', 'sex_enc', 'country_enc']]\n",
    "labels = data['salary_enc']\n",
    "# data split\n",
    "X_train, X_test, y_train, y_test = train_test_split(features, labels, test_size=0.2)"
   ]
  },
  {
   "cell_type": "code",
   "execution_count": 216,
   "id": "3dd6d66c",
   "metadata": {},
   "outputs": [],
   "source": [
    "kernels = ['linear', 'poly', 'rbf']"
   ]
  },
  {
   "cell_type": "code",
   "execution_count": 217,
   "id": "ec79f6cc",
   "metadata": {},
   "outputs": [],
   "source": [
    "classifier = SVC(kernel='poly')"
   ]
  },
  {
   "cell_type": "code",
   "execution_count": 218,
   "id": "caccc49d",
   "metadata": {},
   "outputs": [
    {
     "data": {
      "text/plain": [
       "SVC(kernel='poly')"
      ]
     },
     "execution_count": 218,
     "metadata": {},
     "output_type": "execute_result"
    }
   ],
   "source": [
    "classifier.fit(X_train, y_train)"
   ]
  },
  {
   "cell_type": "code",
   "execution_count": 219,
   "id": "de10cc41",
   "metadata": {},
   "outputs": [
    {
     "name": "stdout",
     "output_type": "stream",
     "text": [
      "0.8168278826961461\n"
     ]
    }
   ],
   "source": [
    "score = classifier.score(X_test, y_test)\n",
    "print(score)"
   ]
  },
  {
   "cell_type": "markdown",
   "id": "e31e0064",
   "metadata": {},
   "source": [
    "### K-Nearest Neighbors"
   ]
  },
  {
   "cell_type": "markdown",
   "id": "9a07519e",
   "metadata": {},
   "source": [
    "- For K-Nearest Neighbors, I found the best results when I dropped the native-country column.\n",
    "- I used 2 as the argument for neighbors because:\n",
    "    - Performance decresed when I added or subtracted from that number\n",
    "    - The target variable is a binary variable\n",
    "- I achieved an accuracy of 78% with this algorithm."
   ]
  },
  {
   "cell_type": "code",
   "execution_count": 244,
   "id": "77355742",
   "metadata": {},
   "outputs": [],
   "source": [
    "# data selection\n",
    "features = data[['occupation_enc', 'education-num', 'age', 'hours-per-week', 'sex_enc']]\n",
    "labels = data['salary_enc']\n",
    "# data split\n",
    "X_train, X_test, y_train, y_test = train_test_split(features, labels, test_size=0.2)"
   ]
  },
  {
   "cell_type": "code",
   "execution_count": 245,
   "id": "79c46a6e",
   "metadata": {},
   "outputs": [],
   "source": [
    "knnClassifier = KNeighborsClassifier(n_neighbors = 2)"
   ]
  },
  {
   "cell_type": "code",
   "execution_count": 246,
   "id": "5db40b29",
   "metadata": {},
   "outputs": [
    {
     "data": {
      "text/plain": [
       "KNeighborsClassifier(n_neighbors=2)"
      ]
     },
     "execution_count": 246,
     "metadata": {},
     "output_type": "execute_result"
    }
   ],
   "source": [
    "knnClassifier.fit(X_train, y_train)"
   ]
  },
  {
   "cell_type": "code",
   "execution_count": 247,
   "id": "f2d3041f",
   "metadata": {},
   "outputs": [
    {
     "name": "stdout",
     "output_type": "stream",
     "text": [
      "0.7799785045294028\n"
     ]
    }
   ],
   "source": [
    "score = knnClassifier.score(X_test, y_test)\n",
    "print(score)"
   ]
  },
  {
   "cell_type": "markdown",
   "id": "032abd87",
   "metadata": {},
   "source": [
    "### Naive Bayes"
   ]
  },
  {
   "cell_type": "markdown",
   "id": "ae5688ef",
   "metadata": {},
   "source": [
    "- With Naive-Bayes, I found the best results when I dropped both the native-country and the hours per week columns.\n",
    "- This led to an accuracy of 80.37% (this was the best result out of 5)"
   ]
  },
  {
   "cell_type": "code",
   "execution_count": 329,
   "id": "792c72b6",
   "metadata": {},
   "outputs": [],
   "source": [
    "# data selection\n",
    "features = data[['occupation_enc', 'education-num', 'age', 'sex_enc']]\n",
    "labels = data['salary_enc']\n",
    "# data split\n",
    "X_train, X_test, y_train, y_test = train_test_split(features, labels, test_size=0.2)"
   ]
  },
  {
   "cell_type": "code",
   "execution_count": 330,
   "id": "493ba94e",
   "metadata": {},
   "outputs": [],
   "source": [
    "nbClassifier = GaussianNB()"
   ]
  },
  {
   "cell_type": "code",
   "execution_count": 331,
   "id": "03f05041",
   "metadata": {},
   "outputs": [
    {
     "data": {
      "text/plain": [
       "GaussianNB()"
      ]
     },
     "execution_count": 331,
     "metadata": {},
     "output_type": "execute_result"
    }
   ],
   "source": [
    "nbClassifier.fit(X_train, y_train)"
   ]
  },
  {
   "cell_type": "code",
   "execution_count": 332,
   "id": "481ec23c",
   "metadata": {},
   "outputs": [
    {
     "name": "stdout",
     "output_type": "stream",
     "text": [
      "0.8037770612620913\n"
     ]
    }
   ],
   "source": [
    "score = nbClassifier.score(X_test, y_test)\n",
    "print(score)"
   ]
  },
  {
   "cell_type": "markdown",
   "id": "3a6458ac",
   "metadata": {},
   "source": [
    "### Logistic Regression"
   ]
  },
  {
   "cell_type": "markdown",
   "id": "639a6ec9",
   "metadata": {},
   "source": [
    "- For the Logistic Regression implementation, I found that dropping the native country but keeping the rest led to the best, most consistent results\n",
    "- This algorithm achieved a 81% accuracy rate"
   ]
  },
  {
   "cell_type": "code",
   "execution_count": 295,
   "id": "cce7a63a",
   "metadata": {},
   "outputs": [],
   "source": [
    "# data selection\n",
    "features = data[['occupation_enc', 'education-num', 'age', 'sex_enc', 'hours-per-week']]\n",
    "labels = data['salary_enc']\n",
    "# data split\n",
    "X_train, X_test, y_train, y_test = train_test_split(features, labels, test_size=0.2)"
   ]
  },
  {
   "cell_type": "code",
   "execution_count": 296,
   "id": "e8e9f1e9",
   "metadata": {},
   "outputs": [],
   "source": [
    "lrClassifier = LogisticRegression()"
   ]
  },
  {
   "cell_type": "code",
   "execution_count": 297,
   "id": "ac7d1596",
   "metadata": {},
   "outputs": [
    {
     "data": {
      "text/plain": [
       "LogisticRegression()"
      ]
     },
     "execution_count": 297,
     "metadata": {},
     "output_type": "execute_result"
    }
   ],
   "source": [
    "lrClassifier.fit(X_train, y_train)"
   ]
  },
  {
   "cell_type": "code",
   "execution_count": 298,
   "id": "b5f35ff3",
   "metadata": {},
   "outputs": [
    {
     "name": "stdout",
     "output_type": "stream",
     "text": [
      "0.8106863196683556\n"
     ]
    }
   ],
   "source": [
    "score = lrClassifier.score(X_test, y_test)\n",
    "print(score)"
   ]
  },
  {
   "cell_type": "markdown",
   "id": "532c4017",
   "metadata": {},
   "source": [
    "### Decision Tree"
   ]
  },
  {
   "cell_type": "markdown",
   "id": "5761f104",
   "metadata": {},
   "source": [
    "- When implementing the decision tree, I found that, surprisingly, it performed better without the age column.\n",
    "- I was able to get an accuracy just below 80 at 79.90%."
   ]
  },
  {
   "cell_type": "code",
   "execution_count": 525,
   "id": "0aa80462",
   "metadata": {},
   "outputs": [],
   "source": [
    "# data selection\n",
    "features = data[['occupation_enc', 'education-num', 'hours-per-week', 'sex_enc']]\n",
    "labels = data['salary_enc']\n",
    "# data split\n",
    "X_train, X_test, y_train, y_test = train_test_split(features, labels, test_size=0.2)"
   ]
  },
  {
   "cell_type": "code",
   "execution_count": 526,
   "id": "46686b9a",
   "metadata": {},
   "outputs": [],
   "source": [
    "dtree = DecisionTreeClassifier()"
   ]
  },
  {
   "cell_type": "code",
   "execution_count": 527,
   "id": "8d0abcdc",
   "metadata": {},
   "outputs": [
    {
     "data": {
      "text/plain": [
       "DecisionTreeClassifier()"
      ]
     },
     "execution_count": 527,
     "metadata": {},
     "output_type": "execute_result"
    }
   ],
   "source": [
    "dtree.fit(X_train, y_train)"
   ]
  },
  {
   "cell_type": "code",
   "execution_count": 528,
   "id": "29b9b811",
   "metadata": {},
   "outputs": [
    {
     "name": "stdout",
     "output_type": "stream",
     "text": [
      "0.7990173499155535\n"
     ]
    }
   ],
   "source": [
    "score = dtree.score(X_test, y_test)\n",
    "print(score)"
   ]
  },
  {
   "cell_type": "markdown",
   "id": "3b92c13a",
   "metadata": {},
   "source": [
    "### Random Forest"
   ]
  },
  {
   "cell_type": "markdown",
   "id": "0c3c284e",
   "metadata": {},
   "source": [
    "- For random forest, I found occupation, education, age, hours-per-week, and sex to be the best combination of features.\n",
    "- I also found the ideal number of estimators to be at least 10, after which the improvement ceased.\n",
    "- Random Forest achieved an accuracy of 79.7%"
   ]
  },
  {
   "cell_type": "code",
   "execution_count": 504,
   "id": "e8421e3a",
   "metadata": {},
   "outputs": [],
   "source": [
    "# data selection\n",
    "features = data[['occupation_enc', 'education-num', 'age', 'hours-per-week', 'sex_enc']]\n",
    "labels = data['salary_enc']\n",
    "# data split\n",
    "X_train, X_test, y_train, y_test = train_test_split(features, labels, test_size=0.2)"
   ]
  },
  {
   "cell_type": "code",
   "execution_count": 505,
   "id": "69e162b3",
   "metadata": {},
   "outputs": [],
   "source": [
    "rfClassifier = RandomForestClassifier(n_estimators = 10)"
   ]
  },
  {
   "cell_type": "code",
   "execution_count": 506,
   "id": "d334afa2",
   "metadata": {},
   "outputs": [
    {
     "data": {
      "text/plain": [
       "RandomForestClassifier(n_estimators=10)"
      ]
     },
     "execution_count": 506,
     "metadata": {},
     "output_type": "execute_result"
    }
   ],
   "source": [
    "rfClassifier.fit(X_train, y_train)"
   ]
  },
  {
   "cell_type": "code",
   "execution_count": 507,
   "id": "3fe8c55c",
   "metadata": {},
   "outputs": [
    {
     "name": "stdout",
     "output_type": "stream",
     "text": [
      "0.7974819591586059\n"
     ]
    }
   ],
   "source": [
    "score = rfClassifier.score(X_test, y_test)\n",
    "print(score)"
   ]
  },
  {
   "cell_type": "markdown",
   "id": "ba7e0f6c",
   "metadata": {},
   "source": [
    "## XGBoost"
   ]
  },
  {
   "cell_type": "markdown",
   "id": "7e27e63a",
   "metadata": {},
   "source": [
    "- I also implemented the XGBoost classifier, and used the occupation, education, age, hours, and sex columns.\n",
    "- The model achieved around an accuracy score of 82.12%."
   ]
  },
  {
   "cell_type": "code",
   "execution_count": 502,
   "id": "cc4a4008",
   "metadata": {},
   "outputs": [],
   "source": [
    "# data selection\n",
    "features = data[['occupation_enc', 'education-num', 'hours-per-week', 'age', 'sex_enc']]\n",
    "labels = data['salary_enc']\n",
    "# data split\n",
    "X_train, X_test, y_train, y_test = train_test_split(features, labels, test_size=0.2)"
   ]
  },
  {
   "cell_type": "code",
   "execution_count": 503,
   "id": "e09ccd2b",
   "metadata": {},
   "outputs": [
    {
     "name": "stdout",
     "output_type": "stream",
     "text": [
      "0.8212805158912944\n"
     ]
    }
   ],
   "source": [
    "xg = XGBClassifier()\n",
    "xg.fit(X_train, y_train)\n",
    "score = xg.score(X_test, y_test)\n",
    "print(score)"
   ]
  },
  {
   "cell_type": "markdown",
   "id": "5d715137",
   "metadata": {},
   "source": [
    "# Conclusion"
   ]
  },
  {
   "cell_type": "markdown",
   "id": "6fb343b2",
   "metadata": {},
   "source": [
    "- Of the available features, occupation and education level seem to have the greatest impact on income level.\n",
    "- Age, hours worked, and sex comprised the next tier of features.\n",
    "- Race and native country were less useful features\n",
    "    - Race seemed relatively skewed with respect to the proportions of the available data, which may have affected it's effectiveness as a training feature\n",
    "    - The native country column's distribution also seemed relatively random and skewed (United States dominant). This distribution likely contributed to countries like Iran being atop the average income rankings, and limited the possible effectiveness of the feature given the high percentage of participants of U.S. origin."
   ]
  }
 ],
 "metadata": {
  "kernelspec": {
   "display_name": "Python 3 (ipykernel)",
   "language": "python",
   "name": "python3"
  },
  "language_info": {
   "codemirror_mode": {
    "name": "ipython",
    "version": 3
   },
   "file_extension": ".py",
   "mimetype": "text/x-python",
   "name": "python",
   "nbconvert_exporter": "python",
   "pygments_lexer": "ipython3",
   "version": "3.9.7"
  }
 },
 "nbformat": 4,
 "nbformat_minor": 5
}
